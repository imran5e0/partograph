{
 "cells": [
  {
   "cell_type": "code",
   "execution_count": null,
   "id": "294fc48e",
   "metadata": {},
   "outputs": [],
   "source": [
    "!pip install pycaret\n"
   ]
  },
  {
   "cell_type": "code",
   "execution_count": 3,
   "id": "353f6325",
   "metadata": {},
   "outputs": [],
   "source": [
    "\n",
    "import pandas as pd\n",
    "\n"
   ]
  },
  {
   "cell_type": "markdown",
   "id": "bbf3109d",
   "metadata": {},
   "source": [
    "# Models\n"
   ]
  },
  {
   "cell_type": "code",
   "execution_count": 4,
   "id": "9f31150d",
   "metadata": {},
   "outputs": [],
   "source": [
    "from sklearn.tree import DecisionTreeClassifier\n",
    "from sklearn.neighbors import KNeighborsClassifier\n",
    "from sklearn import linear_model"
   ]
  },
  {
   "cell_type": "markdown",
   "id": "e68d2f25",
   "metadata": {},
   "source": [
    "# Model evaluation packages "
   ]
  },
  {
   "cell_type": "code",
   "execution_count": 5,
   "id": "9cc70785",
   "metadata": {},
   "outputs": [],
   "source": [
    "from sklearn.metrics import accuracy_score\n",
    "from sklearn.metrics import classification_report\n",
    "from sklearn.metrics import confusion_matrix\n",
    "from sklearn.model_selection import train_test_split"
   ]
  },
  {
   "cell_type": "markdown",
   "id": "265c1917",
   "metadata": {},
   "source": [
    "# Model Selection Function"
   ]
  },
  {
   "cell_type": "code",
   "execution_count": null,
   "id": "054dadc4",
   "metadata": {},
   "outputs": [],
   "source": [
    "#Model Selection\n",
    "\n",
    "def best_model(dataset,target_var):\n",
    "    from pycaret.classification import setup, compare_models, evaluate_model, predict_model, save_model, load_model\n",
    "       \n",
    "    s = setup(dataset, target=target_var)\n",
    "    \n",
    "#     'Comparing all the models'\n",
    "    \n",
    "    best_model = compare_models()\n",
    "\n",
    "#     'Model Evaluation'\n",
    "    \n",
    "\n",
    "    p_model=predict_model(best_model, data=dataset)\n",
    "\n",
    "\n",
    "    print(p_model)\n",
    "    \n",
    "#     'best model'\n",
    "\n",
    "    print(best_model)\n",
    "\n",
    "\n"
   ]
  },
  {
   "cell_type": "code",
   "execution_count": null,
   "id": "c365ccda",
   "metadata": {},
   "outputs": [],
   "source": [
    "# Fetel Heart Rate Best Model\n",
    "dataset=pd.read_csv('/content/maindata.csv')\n",
    "target_var='Res'\n",
    "best_model(dataset,target_var)\n"
   ]
  },
  {
   "cell_type": "code",
   "execution_count": null,
   "id": "b8da8d6a",
   "metadata": {},
   "outputs": [],
   "source": [
    "#Contractions Best Model\n",
    "dataset=pd.read_csv('/content/finalcontractds.csv')\n",
    "target_var='res'\n",
    "best_model(dataset,target_var)"
   ]
  },
  {
   "cell_type": "code",
   "execution_count": null,
   "id": "79ccc93d",
   "metadata": {},
   "outputs": [],
   "source": [
    "#Aminotic Fluid Best Model\n",
    "dataset=pd.read_csv('/content/fluids.csv')\n",
    "target_var='target'\n",
    "best_model(dataset,target_var)\n"
   ]
  },
  {
   "cell_type": "markdown",
   "id": "58be6162",
   "metadata": {},
   "source": [
    "# Fetel Heart Rate "
   ]
  },
  {
   "cell_type": "code",
   "execution_count": null,
   "id": "2c2d4383",
   "metadata": {},
   "outputs": [],
   "source": [
    "#Decision Tree classifier\n",
    "# from sklearn.tree import DecisionTreeClassifier\n",
    "model=DecisionTreeClassifier(criterion=\"entropy\",random_state=10)\n",
    "\n",
    "df=pd.read_csv('/content/maindata.csv')\n",
    "#Training and Target Variables\n",
    "X=df[['FHR1','FHR2','FHR3','FHR4']]\n",
    "y=df[[\"Res\"]]\n",
    "\n",
    "#splitting data for training and testing in 70-30 ratio\n",
    "# ***from sklearn.model_selection import train_test_split***\n",
    "\n",
    "X_train, X_test, y_train, y_test = train_test_split(X, y, test_size=0.3, random_state=42)\n",
    "\n",
    "#fitting data into model\n",
    "model.fit(X_train,y_train)\n",
    "\n",
    "#Training and Testing acccuracy\n",
    "dt_train_ac=model.score(X_train,y_train)\n",
    "dt_test_ac=model.score(X_test,y_test)\n",
    "print(\"Training acc  :\"+dt_train_ac)\n",
    "print('Testing acc   :'+dt_test_ac)\n",
    "\n",
    "#Confusion Matrix\n",
    "target_predict=model.predict(X_test)\n",
    "pd.crosstab(y_test,target_predict)\n",
    "\n",
    "#classification_report\n",
    "print(classification_report(y_test,target_predict))\n"
   ]
  },
  {
   "cell_type": "markdown",
   "id": "03e03179",
   "metadata": {},
   "source": [
    "# Contractions"
   ]
  },
  {
   "cell_type": "code",
   "execution_count": null,
   "id": "a4033166",
   "metadata": {},
   "outputs": [],
   "source": [
    "# Loading Dataset\n",
    "odf=pd.read_csv('/content/finalcontractds.csv')\n",
    "\n",
    "#Training and Target Variables\n",
    "input_var=odf[['contraction']]\n",
    "target_var=odf[['res']]\n",
    "\n",
    "\n",
    "# from sklearn.neighbors import KNeighborsClassifier\n",
    "\n",
    "knn = KNeighborsClassifier(n_neighbors=7)\n",
    "\n",
    "\n",
    "# from sklearn.model_selection import train_test_split\n",
    "#splitting data for training and testing in 70-30 ratio\n",
    "X_train, X_test, y_train, y_test = train_test_split(input_var, target_var, test_size=0.3, random_state=42)\n",
    "\n",
    "\n",
    " \n",
    "#fitting data into model    \n",
    "knn.fit(X_train, y_train)\n",
    "\n",
    "#Training and Testing acccuracy\n",
    "print(\"Training acc  :\"+str(knn.score(X_train,y_train)))\n",
    "print('Testing acc   :'+str(knn.score(X_test,y_test)))\n",
    "\n",
    "#Confusion Matrix\n",
    "target_predict=knn.predict(X_test)\n",
    "pd.crosstab(y_test,target_predict)\n",
    "\n",
    "\n",
    "#classification_report\n",
    "print(classification_report(y_test,target_predict))\n"
   ]
  },
  {
   "cell_type": "markdown",
   "id": "89b17ffc",
   "metadata": {},
   "source": [
    "# Aminotic Fluid \n"
   ]
  },
  {
   "cell_type": "code",
   "execution_count": 25,
   "id": "5b378f1b",
   "metadata": {},
   "outputs": [
    {
     "name": "stdout",
     "output_type": "stream",
     "text": [
      "Training Accuracy :1.0\n",
      "Testing  Accuracy :1.0\n",
      "              precision    recall  f1-score   support\n",
      "\n",
      "           0       1.00      1.00      1.00      1498\n",
      "           1       1.00      1.00      1.00      1502\n",
      "\n",
      "    accuracy                           1.00      3000\n",
      "   macro avg       1.00      1.00      1.00      3000\n",
      "weighted avg       1.00      1.00      1.00      3000\n",
      "\n"
     ]
    },
    {
     "name": "stderr",
     "output_type": "stream",
     "text": [
      "C:\\Users\\ADMIN\\AppData\\Roaming\\Python\\Python39\\site-packages\\sklearn\\utils\\validation.py:1111: DataConversionWarning: A column-vector y was passed when a 1d array was expected. Please change the shape of y to (n_samples, ), for example using ravel().\n",
      "  y = column_or_1d(y, warn=True)\n"
     ]
    }
   ],
   "source": [
    "# Loading Dataset\n",
    "new_d=pd.read_csv('fluids.csv')\n",
    "\n",
    "\n",
    "#Training and Target Variables\n",
    "X=new_d[['fluid_m','fluid_i','fluid_b','fluid_m']]\n",
    "y=new_d[['target']]\n",
    "\n",
    "# from sklearn import linear_model\n",
    "logr = linear_model.LogisticRegression()\n",
    "\n",
    "# from sklearn.model_selection import train_test_split\n",
    "#splitting data for training and testing in 70-30 ratio\n",
    "X_train, X_test, y_train, y_test = train_test_split(X,y, test_size=0.3, random_state=42)\n",
    "\n",
    "#fitting data into model \n",
    "logr.fit(X_train,y_train)\n",
    "\n",
    "#Training and Testing acccuracy\n",
    "print(\"Training Accuracy :\"+str(logr.score(X_train,y_train)))\n",
    "print('Testing  Accuracy :'+str(logr.score(X_test,y_test)))\n",
    "      \n",
    "      \n",
    "#Confusion Matrix\n",
    "# target_predict=logr.predict(X_test)\n",
    "# pd.crosstab(y_test,target_predict)      \n",
    "      \n",
    "#classification_report\n",
    "print(classification_report(y_test,target_predict))  "
   ]
  },
  {
   "cell_type": "markdown",
   "id": "9a2ccce2",
   "metadata": {},
   "source": [
    "# FHR Prediction"
   ]
  },
  {
   "cell_type": "code",
   "execution_count": null,
   "id": "9c14f87e",
   "metadata": {},
   "outputs": [],
   "source": [
    "Fhr1=int(input(\"Enter FHR1\"))\n",
    "Fhr2=int(input(\"Enter FHR2\"))\n",
    "Fhr3=int(input(\"Enter FHR3\"))\n",
    "Fhr4=int(input(\"Enter FHR4\"))\n",
    "def pred(Fhr1,Fhr2,Fhr3,Fhr4):\n",
    "    k=dtree.predict([[Fhr1,Fhr2,Fhr3,Fhr4]])\n",
    "    k1=[0,1]\n",
    "    k2=[\"UbNormal\",'normal']\n",
    "    if k in k1:\n",
    "        print(k2[k1.index(k)])\n",
    "    else:\n",
    "        print(\"Enter Valid Inputs\")\n",
    "\n",
    "pred(Fhr1,Fhr2,Fhr3,Fhr4)"
   ]
  },
  {
   "cell_type": "markdown",
   "id": "7e39daac",
   "metadata": {},
   "source": [
    "# Contractions Prediction\n"
   ]
  },
  {
   "cell_type": "code",
   "execution_count": null,
   "id": "b038b0d2",
   "metadata": {},
   "outputs": [],
   "source": [
    "cont=int(input(\"Enter no of contractions:\"))\n",
    "# prediction model\n",
    "def pred(cont):\n",
    "    k=knn.predict([[cont]])\n",
    "    k1=[0,1,2]\n",
    "    k2=[\"Mild\",\"Moderate\",\"Strong\"]\n",
    "    if k in k1:\n",
    "        print(k2[k1.index(k)])\n",
    "    else:\n",
    "        print(\"Enter Valid Inputs\")\n",
    "if cont<0 or cont>50:\n",
    "    print(\"enter valid inputs\")\n",
    "else:\n",
    "    pred(cont)\n"
   ]
  },
  {
   "cell_type": "markdown",
   "id": "65479b45",
   "metadata": {},
   "source": [
    "# Aminotic Fluid"
   ]
  },
  {
   "cell_type": "code",
   "execution_count": 18,
   "id": "d0f39d61",
   "metadata": {},
   "outputs": [
    {
     "name": "stdout",
     "output_type": "stream",
     "text": [
      "Enter Fluid:m\n",
      "Normal\n"
     ]
    },
    {
     "name": "stderr",
     "output_type": "stream",
     "text": [
      "C:\\Users\\ADMIN\\AppData\\Roaming\\Python\\Python39\\site-packages\\sklearn\\base.py:450: UserWarning: X does not have valid feature names, but LogisticRegression was fitted with feature names\n",
      "  warnings.warn(\n"
     ]
    }
   ],
   "source": [
    "fluid=input(\"Enter Fluid:\")\n",
    "fluid=fluid.lower()\n",
    "# prediction model\n",
    "def pred(fluid):\n",
    "    if fluid=='m' or fluid=='b':\n",
    "      fluid_b=1\n",
    "      fluid_c=0\n",
    "      fluid_i=0\n",
    "      fluid_m=1\n",
    "      \n",
    "\n",
    "    elif fluid=='c' or fluid=='i':\n",
    "      fluid_b=0\n",
    "      fluid_c=1\n",
    "      fluid_i=1\n",
    "      fluid_m=0\n",
    "      \n",
    "    else:\n",
    "        print('Enter a Valid Input')\n",
    "    k=logr.predict([[fluid_b,fluid_i,fluid_c,fluid_m]])\n",
    "    k1=[0,1]\n",
    "    k2=[\"Normal\",\"UbNormal\"]\n",
    "    if k in k1:\n",
    "        print(k2[k1.index(k)])\n",
    "    else:\n",
    "        print(\"Enter Valid Inputs\")\n",
    "pred(fluid)\n"
   ]
  },
  {
   "cell_type": "code",
   "execution_count": null,
   "id": "ebce0a8a",
   "metadata": {},
   "outputs": [],
   "source": []
  }
 ],
 "metadata": {
  "kernelspec": {
   "display_name": "Python 3 (ipykernel)",
   "language": "python",
   "name": "python3"
  },
  "language_info": {
   "codemirror_mode": {
    "name": "ipython",
    "version": 3
   },
   "file_extension": ".py",
   "mimetype": "text/x-python",
   "name": "python",
   "nbconvert_exporter": "python",
   "pygments_lexer": "ipython3",
   "version": "3.9.12"
  }
 },
 "nbformat": 4,
 "nbformat_minor": 5
}
