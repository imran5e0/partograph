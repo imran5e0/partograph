{
  "cells": [
    {
      "cell_type": "code",
      "execution_count": null,
      "metadata": {
        "id": "133399a6"
      },
      "outputs": [],
      "source": [
        "import numpy as np\n",
        "import pandas as pd\n",
        "import warnings\n",
        "warnings.filterwarnings(\"ignore\")\n",
        "%matplotlib inline \n",
        "# !pip install numpy"
      ],
      "id": "133399a6"
    },
    {
      "cell_type": "markdown",
      "metadata": {
        "id": "b7889f09"
      },
      "source": [
        "# Models\n"
      ],
      "id": "b7889f09"
    },
    {
      "cell_type": "code",
      "execution_count": null,
      "metadata": {
        "id": "72e93902"
      },
      "outputs": [],
      "source": [
        "from sklearn.tree import DecisionTreeClassifier\n",
        "from sklearn.neighbors import KNeighborsClassifier\n",
        "from sklearn import linear_model"
      ],
      "id": "72e93902"
    },
    {
      "cell_type": "markdown",
      "metadata": {
        "id": "-68YBWI7MqcZ"
      },
      "source": [
        "Graphs Packages\n"
      ],
      "id": "-68YBWI7MqcZ"
    },
    {
      "cell_type": "code",
      "execution_count": null,
      "metadata": {
        "id": "M7V6vcBCMhTs"
      },
      "outputs": [],
      "source": [
        "import matplotlib.pyplot as plt\n",
        "import seaborn as sns"
      ],
      "id": "M7V6vcBCMhTs"
    },
    {
      "cell_type": "markdown",
      "metadata": {
        "id": "477db794"
      },
      "source": [
        "# Model evaluation packages "
      ],
      "id": "477db794"
    },
    {
      "cell_type": "code",
      "execution_count": null,
      "metadata": {
        "id": "d033fc25"
      },
      "outputs": [],
      "source": [
        "from sklearn.metrics import accuracy_score\n",
        "from sklearn.metrics import classification_report\n",
        "from sklearn.metrics import confusion_matrix\n",
        "from sklearn.model_selection import train_test_split\n",
        "from sklearn.metrics import confusion_matrix\n",
        "from sklearn.metrics import roc_auc_score"
      ],
      "id": "d033fc25"
    },
    {
      "cell_type": "markdown",
      "metadata": {
        "id": "8de7969f"
      },
      "source": [
        "# Model Selection Function"
      ],
      "id": "8de7969f"
    },
    {
      "cell_type": "code",
      "execution_count": null,
      "metadata": {
        "id": "34913667"
      },
      "outputs": [],
      "source": [
        "def  best_model(X,y):\n",
        "    \n",
        "    #importing models from sklearn\n",
        "    from sklearn.tree import DecisionTreeClassifier\n",
        "    from sklearn.neighbors import KNeighborsClassifier\n",
        "    from sklearn import linear_model\n",
        "    from sklearn.naive_bayes import GaussianNB\n",
        "    \n",
        "    from sklearn import metrics\n",
        "    \n",
        "    from sklearn.model_selection import train_test_split\n",
        "    X_train, X_test, y_train, y_test = train_test_split(X, y, test_size=0.3, random_state=42)\n",
        "    \n",
        "    \n",
        "    #model declaration\n",
        "    d_tree=DecisionTreeClassifier(criterion=\"entropy\",random_state=10)\n",
        "    \n",
        "    knn= KNeighborsClassifier(n_neighbors=5, metric='minkowski', p=2 )  \n",
        "    \n",
        "    logr = linear_model.LogisticRegression()\n",
        "    \n",
        "    naive = GaussianNB()\n",
        "\n",
        "    #fitting data into models\n",
        "    d_tree.fit(X_train,y_train)\n",
        "    knn.fit(X_train,y_train)\n",
        "    logr.fit(X_train,y_train)\n",
        "    naive.fit(X_train, y_train)\n",
        "    \n",
        "    dt_pred=d_tree.predict(X_test)\n",
        "    knn_pred=knn.predict(X_test)\n",
        "    logr_pred=logr.predict(X_test)\n",
        "    naive_pred=naive.predict(X_test)\n",
        "    \n",
        "    print(\"Decision Tree  model accuracy(in %):\", metrics.accuracy_score(y_test, dt_pred)*100)\n",
        "    print(\"k-nearest neighbours model accuracy(in %):\", metrics.accuracy_score(y_test, knn_pred)*100)\n",
        "    print(\"Logistic Regression model accuracy(in %):\", metrics.accuracy_score(y_test, logr_pred)*100)\n",
        "    print(\"Gaussian Naive Bayes model accuracy(in %):\", metrics.accuracy_score(y_test, naive_pred)*100)\n",
        "    \n"
      ],
      "id": "34913667"
    },
    {
      "cell_type": "code",
      "execution_count": null,
      "metadata": {
        "id": "a6316e8d"
      },
      "outputs": [],
      "source": [
        "# Foetal Heart Rate Best Model\n",
        "dataset=pd.read_csv('/content/foetal_heartrate.csv')\n",
        "X=dataset[['FHR1','FHR2','FHR3','FHR4','FHR5','FHR6','FHR7','FHR8']]\n",
        "y=dataset[[\"res\"]]\n",
        "best_model(X,y)\n"
      ],
      "id": "a6316e8d"
    },
    {
      "cell_type": "code",
      "execution_count": null,
      "metadata": {
        "id": "138a95fc"
      },
      "outputs": [],
      "source": [
        "#contractions\n",
        "dataset=pd.read_csv(\"/content/final_contractions.csv\")\n",
        "X=dataset.iloc[:,1:11]\n",
        "y='phase1'\n",
        "best_model(X,y)"
      ],
      "id": "138a95fc"
    },
    {
      "cell_type": "code",
      "execution_count": null,
      "metadata": {
        "id": "dv2KnVaEeyMp"
      },
      "outputs": [],
      "source": [
        "# pulse_BP Rate Best Model\n",
        "dataset=pd.read_csv('/content/pulse_bp.csv')\n",
        "target_var='res'\n",
        "best_model(dataset,target_var)"
      ],
      "id": "dv2KnVaEeyMp"
    },
    {
      "cell_type": "markdown",
      "metadata": {
        "id": "00234b79"
      },
      "source": [
        "# Fetel Heart Rate "
      ],
      "id": "00234b79"
    },
    {
      "cell_type": "code",
      "execution_count": null,
      "metadata": {
        "colab": {
          "base_uri": "https://localhost:8080/"
        },
        "id": "65746829",
        "outputId": "6defff50-396b-42a9-818f-006ff9452f84"
      },
      "outputs": [
        {
          "output_type": "stream",
          "name": "stdout",
          "text": [
            "Training acc  :1.0\n",
            "Testing acc   :1.0\n",
            "['foetal distress' 'foetal distress' 'normal' ... 'foetal distress'\n",
            " 'foetal distress' 'foetal distress']\n",
            "                 precision    recall  f1-score   support\n",
            "\n",
            "foetal distress       1.00      1.00      1.00     24969\n",
            "         normal       1.00      1.00      1.00      5031\n",
            "\n",
            "       accuracy                           1.00     30000\n",
            "      macro avg       1.00      1.00      1.00     30000\n",
            "   weighted avg       1.00      1.00      1.00     30000\n",
            "\n"
          ]
        }
      ],
      "source": [
        "#Decision Tree classifier\n",
        "# from sklearn.tree import DecisionTreeClassifier\n",
        "fhr_model=DecisionTreeClassifier(criterion=\"entropy\",random_state=10)\n",
        "\n",
        "df=pd.read_csv('./foetal_heartrate.csv')\n",
        "#Training and Target Variables\n",
        "X=df[['FHR1','FHR2','FHR3','FHR4','FHR5','FHR6','FHR7','FHR8']]\n",
        "y=df[[\"res\"]]\n",
        "\n",
        "#splitting data for training and testing in 70-30 ratio\n",
        "# ***from sklearn.model_selection import train_test_split***\n",
        "\n",
        "X_train, X_test, y_train, y_test = train_test_split(X, y, test_size=0.3, random_state=42)\n",
        "\n",
        "#fitting data into model\n",
        "fhr_model.fit(X_train,y_train)\n",
        "\n",
        "#Training and Testing acccuracy\n",
        "dt_train_ac=fhr_model.score(X_train,y_train)\n",
        "dt_test_ac=fhr_model.score(X_test,y_test)\n",
        "print(\"Training acc  :\"+str(dt_train_ac))\n",
        "print('Testing acc   :'+str(dt_test_ac))\n",
        "\n",
        "#Confusion Matrix\n",
        "target_predict=fhr_model.predict(X_test)\n",
        "\n",
        "# print(target_predict)\n",
        "\n",
        "\n",
        "\n",
        "#classification_report\n",
        "print(classification_report(y_test,target_predict))\n",
        "\n",
        "input_predict=fhr_model.predict(X_train)\n",
        "\n",
        "\n",
        "\n",
        "\n"
      ],
      "id": "65746829"
    },
    {
      "cell_type": "markdown",
      "metadata": {
        "id": "76aacdec"
      },
      "source": [
        "# Contractions"
      ],
      "id": "76aacdec"
    },
    {
      "cell_type": "code",
      "execution_count": null,
      "metadata": {
        "colab": {
          "base_uri": "https://localhost:8080/"
        },
        "id": "52b0ec6b",
        "outputId": "3b684207-5189-482d-af94-acb90f9ba39a"
      },
      "outputs": [
        {
          "output_type": "stream",
          "name": "stdout",
          "text": [
            "Training acc  :1.0\n",
            "Testing acc   :1.0\n",
            "                 precision    recall  f1-score   support\n",
            "\n",
            "        consult       1.00      1.00      1.00      1702\n",
            "feotal distress       1.00      1.00      1.00       319\n",
            "         normal       1.00      1.00      1.00       979\n",
            "\n",
            "       accuracy                           1.00      3000\n",
            "      macro avg       1.00      1.00      1.00      3000\n",
            "   weighted avg       1.00      1.00      1.00      3000\n",
            "\n"
          ]
        }
      ],
      "source": [
        "# Loading Dataset\n",
        "odf=pd.read_csv('/content/final_contractions.csv')\n",
        "\n",
        "#Training and Target Variables\n",
        "input_var=odf.iloc[:,1:11]\n",
        "target_var=odf[['phase1']]\n",
        "\n",
        "\n",
        "# from sklearn.neighbors import KNeighborsClassifier\n",
        "\n",
        "# cont_model = KNeighborsClassifier(n_neighbors=7)\n",
        "cont_model=DecisionTreeClassifier(criterion=\"entropy\",random_state=10)\n",
        "\n",
        "# from sklearn.model_selection import train_test_split\n",
        "#splitting data for training and testing in 70-30 ratio\n",
        "X_train, X_test, y_train, y_test = train_test_split(input_var, target_var, test_size=0.3, random_state=42)\n",
        "\n",
        "\n",
        " \n",
        "#fitting data into model    \n",
        "cont_model.fit(X_train, y_train)\n",
        "\n",
        "#Training and Testing acccuracy\n",
        "print(\"Training acc  :\"+str(cont_model.score(X_train,y_train)))\n",
        "print('Testing acc   :'+str(cont_model.score(X_test,y_test)))\n",
        "\n",
        "#Confusion Matrix\n",
        "target_predict=cont_model.predict(X_test)\n",
        "# pd.crosstab(y_test,target_predict)\n",
        "\n",
        "\n",
        "#classification_report\n",
        "print(classification_report(y_test,target_predict))\n",
        "\n",
        "# input_predict=cont_model.predict(X_train)"
      ],
      "id": "52b0ec6b"
    },
    {
      "cell_type": "markdown",
      "metadata": {
        "id": "HPGOrVQlND-C"
      },
      "source": [
        "BP and pulse prediction"
      ],
      "id": "HPGOrVQlND-C"
    },
    {
      "cell_type": "code",
      "execution_count": null,
      "metadata": {
        "colab": {
          "base_uri": "https://localhost:8080/"
        },
        "id": "05RBpjcFNBo4",
        "outputId": "f71b8144-4751-411c-8cda-0257e7a1029e"
      },
      "outputs": [
        {
          "output_type": "stream",
          "name": "stdout",
          "text": [
            "Training acc  :1.0\n",
            "Testing acc   :1.0\n",
            "              precision    recall  f1-score   support\n",
            "\n",
            "     consult       1.00      1.00      1.00      1851\n",
            "      normal       1.00      1.00      1.00      1149\n",
            "\n",
            "    accuracy                           1.00      3000\n",
            "   macro avg       1.00      1.00      1.00      3000\n",
            "weighted avg       1.00      1.00      1.00      3000\n",
            "\n"
          ]
        }
      ],
      "source": [
        "data=pd.read_csv(\"/content/pulse_bp.csv\")\n",
        "\n",
        "X=data.iloc[:,1:-1]\n",
        "y=data['res']\n",
        "\n",
        "\n",
        "bp_model=DecisionTreeClassifier(criterion=\"entropy\",random_state=10)\n",
        "\n",
        "# from sklearn.model_selection import train_test_split\n",
        "#splitting data for training and testing in 70-30 ratio\n",
        "X_train, X_test, y_train, y_test = train_test_split(X, y, test_size=0.3, random_state=42)\n",
        "\n",
        "\n",
        " \n",
        "#fitting data into model    \n",
        "bp_model.fit(X_train, y_train)\n",
        "\n",
        "#Training and Testing acccuracy\n",
        "print(\"Training acc  :\"+str(bp_model.score(X_train,y_train)))\n",
        "print('Testing acc   :'+str(bp_model.score(X_test,y_test)))\n",
        "\n",
        "#Confusion Matrix\n",
        "target_predict=bp_model.predict(X_test)\n",
        "\n",
        "\n",
        "#classification_report\n",
        "print(classification_report(y_test,target_predict))\n",
        "\n",
        "# input_predict=cont_model.predict(X_train)\n",
        "\n"
      ],
      "id": "05RBpjcFNBo4"
    },
    {
      "cell_type": "markdown",
      "metadata": {
        "id": "SbDSQgEJfrgh"
      },
      "source": [
        "Final_prediction"
      ],
      "id": "SbDSQgEJfrgh"
    },
    {
      "cell_type": "code",
      "execution_count": null,
      "metadata": {
        "colab": {
          "base_uri": "https://localhost:8080/"
        },
        "id": "3YB_1DBd_GUK",
        "outputId": "c1cb1cc5-766f-42d1-f877-2f449053802d"
      },
      "outputs": [
        {
          "output_type": "stream",
          "name": "stdout",
          "text": [
            "Training acc  :1.0\n",
            "Testing acc   :0.9743589743589743\n",
            "              precision    recall  f1-score   support\n",
            "\n",
            "     CONSULT       0.93      1.00      0.97        14\n",
            "          FD       1.00      1.00      1.00        22\n",
            "      NORMAL       1.00      1.00      1.00         2\n",
            "      PROLON       0.00      0.00      0.00         1\n",
            "\n",
            "    accuracy                           0.97        39\n",
            "   macro avg       0.73      0.75      0.74        39\n",
            "weighted avg       0.95      0.97      0.96        39\n",
            "\n"
          ]
        },
        {
          "output_type": "stream",
          "name": "stderr",
          "text": [
            "/usr/local/lib/python3.8/dist-packages/sklearn/metrics/_classification.py:1318: UndefinedMetricWarning: Precision and F-score are ill-defined and being set to 0.0 in labels with no predicted samples. Use `zero_division` parameter to control this behavior.\n",
            "  _warn_prf(average, modifier, msg_start, len(result))\n",
            "/usr/local/lib/python3.8/dist-packages/sklearn/metrics/_classification.py:1318: UndefinedMetricWarning: Precision and F-score are ill-defined and being set to 0.0 in labels with no predicted samples. Use `zero_division` parameter to control this behavior.\n",
            "  _warn_prf(average, modifier, msg_start, len(result))\n",
            "/usr/local/lib/python3.8/dist-packages/sklearn/metrics/_classification.py:1318: UndefinedMetricWarning: Precision and F-score are ill-defined and being set to 0.0 in labels with no predicted samples. Use `zero_division` parameter to control this behavior.\n",
            "  _warn_prf(average, modifier, msg_start, len(result))\n"
          ]
        }
      ],
      "source": [
        "data=pd.read_csv(\"/content/final .csv\")\n",
        "\n",
        "X=data.iloc[:,1:-1]\n",
        "y=data['res']\n",
        "\n",
        "\n",
        "final_model=DecisionTreeClassifier(criterion=\"entropy\",random_state=10)\n",
        "\n",
        "# from sklearn.model_selection import train_test_split\n",
        "#splitting data for training and testing in 70-30 ratio\n",
        "X_train, X_test, y_train, y_test = train_test_split(X, y, test_size=0.3, random_state=42)\n",
        "\n",
        "\n",
        " \n",
        "#fitting data into model    \n",
        "final_model.fit(X_train, y_train)\n",
        "\n",
        "#Training and Testing acccuracy\n",
        "print(\"Training acc  :\"+str(final_model.score(X_train,y_train)))\n",
        "print('Testing acc   :'+str(final_model.score(X_test,y_test)))\n",
        "\n",
        "#Confusion Matrix\n",
        "target_predict=final_model.predict(X_test)\n",
        "# pd.crosstab(y_test,target_predict)\n",
        "\n",
        "\n",
        "#classification_report\n",
        "print(classification_report(y_test,target_predict))\n",
        "\n",
        "# input_predict=cont_model.predict(X_train)\n",
        "\n"
      ],
      "id": "3YB_1DBd_GUK"
    },
    {
      "cell_type": "code",
      "source": [
        "y.unique()"
      ],
      "metadata": {
        "colab": {
          "base_uri": "https://localhost:8080/"
        },
        "id": "LUC7y9ArCuEc",
        "outputId": "c98cfbd9-dc5d-4dd0-a0c3-487a071a2de8"
      },
      "id": "LUC7y9ArCuEc",
      "execution_count": null,
      "outputs": [
        {
          "output_type": "execute_result",
          "data": {
            "text/plain": [
              "array(['FD', 'CONSULT', 'NORMAL', 'PROLON'], dtype=object)"
            ]
          },
          "metadata": {},
          "execution_count": 72
        }
      ]
    },
    {
      "cell_type": "markdown",
      "source": [
        "final confusion matrix"
      ],
      "metadata": {
        "id": "AwUK4o3IGQsg"
      },
      "id": "AwUK4o3IGQsg"
    },
    {
      "cell_type": "code",
      "source": [
        "cf_matrix=confusion_matrix(y_test, target_predict)\n",
        "\n",
        "ax= plt.subplot()\n",
        "sns.heatmap(cf_matrix, annot=True, fmt='g', ax=ax,cmap ='plasma');  #annot=True to annotate cells, ftm='g' to disable scientific notation\n",
        "\n",
        "# labels, title and ticks\n",
        "ax.set_xlabel('Predicted labels');ax.set_ylabel('True labels'); \n",
        "ax.set_title('Confusion Matrix'); \n",
        "ax.xaxis.set_ticklabels(['FD', 'CONSULT', 'NORMAL', 'PROLON']); ax.yaxis.set_ticklabels(['FD', 'CONSULT', 'NORMAL', 'PROLON']);"
      ],
      "metadata": {
        "colab": {
          "base_uri": "https://localhost:8080/",
          "height": 533
        },
        "id": "lEqxZVlwB_Y1",
        "outputId": "62966725-7c77-4d38-b34b-adb168e7d72e"
      },
      "id": "lEqxZVlwB_Y1",
      "execution_count": null,
      "outputs": [
        {
          "output_type": "display_data",
          "data": {
            "text/plain": [
              "<Figure size 1008x595.44 with 2 Axes>"
            ],
            "image/png": "[encoded data removed]"
          },
          "metadata": {}
        }
      ]
    },
    {
      "cell_type": "markdown",
      "metadata": {
        "id": "ab5f6484"
      },
      "source": [
        "# FHR Prediction"
      ],
      "id": "ab5f6484"
    },
    {
      "cell_type": "code",
      "execution_count": null,
      "metadata": {
        "id": "Ak3GwekXrVsH"
      },
      "outputs": [],
      "source": [
        "#fhr graph\n",
        "def fhr_graph(Fhr1,Fhr2,Fhr3,Fhr4,Fhr5,Fhr6,Fhr7,Fhr8):\n",
        "  line=sns.lineplot(x=[30,60,90,120,150,180,210,240], y=[Fhr1,Fhr2,Fhr3,Fhr4,Fhr5,Fhr6,Fhr7,Fhr8],marker='o')\n",
        "  line.set_title( \"Fetel Heart Rate\")\n",
        "  line.set_xlabel( \"Time-interval\")\n",
        "  line.set_ylabel('Fhr')\n",
        "  line.set_xlim(0, 300)\n",
        "  line.set_ylim(90,180) \n",
        "\n",
        "  line=sns.lineplot(x=[0,60,120,180,240,300],y=[120,120,120,120,120,120],color='red')\n",
        "  line=sns.lineplot(x=[0,60,120,180,240,300],y=[160,160,160,160,160,160],color='red')\n",
        "\n",
        "  print(\"the outcome of this graph is : \"+str(fhr_model.predict([lists])))\n",
        "\n",
        "\n",
        "\n",
        "\n",
        "#bp_pulse graph\n",
        "def bp_pulse_graph(pulses,bp1,bp11,bp2,bp22):\n",
        "  import matplotlib.pyplot as plt\n",
        "  import seaborn as sns\n",
        "  import pandas as pd\n",
        "\n",
        "  fig, ax = plt.subplots(1, 1, figsize=(12, 6))\n",
        "  sns.lineplot(x=[1,2,3,4,5,6,7,8], y=pulses,marker='o',ax=ax)\n",
        "  ax.annotate('', xy=(2, bp1), xytext=(2, bp11),arrowprops=dict(arrowstyle='<->', facecolor='red'))\n",
        "  ax.annotate('', xy=(8, bp2), xytext=(8, bp22),arrowprops=dict(arrowstyle='<->', facecolor='red'))\n",
        "\n",
        "  plt.ylim(60,180)\n",
        "  plt.xlim(0,10)\n",
        "\n",
        "  plt.show()\n",
        "  print(\"the outcome of this graph is : \"+str(bp_model.predict([bp_pred_list])))\n",
        "\n",
        "#cervix length graph\n",
        "def cl_graph(r):\n",
        "  import seaborn as sns\n",
        "  import matplotlib.pyplot as plt\n",
        "  line=sns.lineplot(x=[1,2,4,6,8],y=[cl1, cl1+1, cl1+2, cl1+3,cl1+4],color='blue', marker = 'o') #alert line\n",
        "  line=sns.lineplot(x=[4,5,6,7,8,9,10], y=[4,5,6,7,8,9,10], color = 'red')\n",
        "  line=sns.lineplot(x=[0,1,2,3,4,5,6], y=[4,5,6,7,8,9,10], color = 'red')\n",
        "  line.set_title( \"Cervix Length\")\n",
        "  line.set_xlabel( \"Time-interval\")\n",
        "  line.set_ylabel('cl')\n",
        "\n",
        "  sns.set(rc={'figure.figsize':(14,8.27)})\n",
        "  plt.figure(figsize = (14, 8))\n",
        "  line.set_xlim(0,10)\n",
        "  line.set_ylim(4,10)\n",
        "  # print(\"the outcome of this graph is : \"+str(model.predict([[contractions]])))/\n",
        "\n",
        "#contractions graph\n",
        "def cont_graph(contractions,left1,time):\n",
        "  tick_label = ['c1', 'c2', 'c3', 'c4', 'c5','c6','c7','c8']\n",
        "  value = list(zip(contractions,time))\n",
        "  colors = ['red' if i[0] <= 20 and i[1] <= 2 else 'blue' if (i[0] >= 20 and i[0] < 40) and (i[1] > 2 and i[1] <= 4) else 'green' for i in value]\n",
        "  plt.bar(left1, time, tick_label = tick_label,width=0.9,color=colors)\n",
        "  plt.ylim(0,10)\n",
        "  plt.show()\n",
        "  \n",
        "  print(\"the outcome of this graph is : \"+str(cont_model.predict([contractions])))\n",
        "  \n"
      ],
      "id": "Ak3GwekXrVsH"
    },
    {
      "cell_type": "code",
      "execution_count": null,
      "metadata": {
        "colab": {
          "base_uri": "https://localhost:8080/",
          "height": 529
        },
        "id": "f8d76f13",
        "outputId": "1c049957-6f15-4512-f88b-7b76adbb0840"
      },
      "outputs": [
        {
          "output_type": "stream",
          "name": "stdout",
          "text": [
            "Enter FHR1: 124\n",
            "Normal, wait for progress.\n",
            "Enter FHR2: 130\n",
            "Normal, wait for progress.\n",
            "Enter FHR3: 135\n",
            "Normal, wait for progress.\n",
            "Enter FHR4: 140\n",
            "Normal, wait for progress.\n",
            "Enter FHR5: 140\n",
            "Normal, wait for progress.\n",
            "Enter FHR6: 145\n",
            "Normal, wait for progress.\n",
            "Enter FHR7: 145\n",
            "Normal, wait for progress.\n",
            "Enter FHR8: 150\n",
            "Normal, wait for progress.\n",
            "1\n"
          ]
        },
        {
          "output_type": "error",
          "ename": "TypeError",
          "evalue": "ignored",
          "traceback": [
            "\u001b[0;31m---------------------------------------------------------------------------\u001b[0m",
            "\u001b[0;31mTypeError\u001b[0m                                 Traceback (most recent call last)",
            "\u001b[0;32m<ipython-input-54-fe6265952c16>\u001b[0m in \u001b[0;36m<module>\u001b[0;34m\u001b[0m\n\u001b[1;32m     63\u001b[0m     \u001b[0;31m#     print(\"Enter Valid Inputs\")\u001b[0m\u001b[0;34m\u001b[0m\u001b[0;34m\u001b[0m\u001b[0;34m\u001b[0m\u001b[0m\n\u001b[1;32m     64\u001b[0m \u001b[0mfhr_pred\u001b[0m\u001b[0;34m=\u001b[0m\u001b[0;36m0\u001b[0m\u001b[0;34m\u001b[0m\u001b[0;34m\u001b[0m\u001b[0m\n\u001b[0;32m---> 65\u001b[0;31m \u001b[0mpred\u001b[0m\u001b[0;34m(\u001b[0m\u001b[0mlists\u001b[0m\u001b[0;34m,\u001b[0m\u001b[0mfhr_pred\u001b[0m\u001b[0;34m)\u001b[0m\u001b[0;34m\u001b[0m\u001b[0;34m\u001b[0m\u001b[0m\n\u001b[0m\u001b[1;32m     66\u001b[0m \u001b[0;34m\u001b[0m\u001b[0m\n\u001b[1;32m     67\u001b[0m \u001b[0;34m\u001b[0m\u001b[0m\n",
            "\u001b[0;31mTypeError\u001b[0m: pred() takes 1 positional argument but 2 were given"
          ]
        }
      ],
      "source": [
        "lists = []\n",
        "Fhr1=int(input(\"Enter FHR1: \"))\n",
        "if Fhr1 < 120 or Fhr1 > 160:\n",
        "  print(\"Foetal Distress\")\n",
        "  fhr_op = 0\n",
        "else:\n",
        "  print(\"Normal, wait for progress.\")\n",
        "  lists.append(Fhr1)\n",
        "  Fhr2=int(input(\"Enter FHR2: \"))\n",
        "  if Fhr2 < 120 or Fhr2 > 160:\n",
        "    print(\"Foetal Distress\")\n",
        "  else:\n",
        "    print(\"Normal, wait for progress.\")\n",
        "    lists.append(Fhr2)\n",
        "    Fhr3=int(input(\"Enter FHR3: \"))\n",
        "    if Fhr3 < 120 or Fhr3 > 160:\n",
        "      print(\"Foetal Distress\")\n",
        "    else:\n",
        "      print(\"Normal, wait for progress.\")\n",
        "      lists.append(Fhr3)\n",
        "      Fhr4=int(input(\"Enter FHR4: \"))\n",
        "      if Fhr4 < 120 or Fhr4 > 160:\n",
        "        print(\"Foetal Distress\")\n",
        "      else:\n",
        "        print(\"Normal, wait for progress.\")\n",
        "        lists.append(Fhr4)\n",
        "        Fhr5=int(input(\"Enter FHR5: \"))\n",
        "        if Fhr5 < 120 or Fhr5 > 160:\n",
        "          print(\"Foetal Distress\")\n",
        "        else:\n",
        "          print(\"Normal, wait for progress.\")\n",
        "          lists.append(Fhr5)\n",
        "          Fhr6=int(input(\"Enter FHR6: \"))\n",
        "          if Fhr6 < 120 or Fhr6 > 160:\n",
        "            print(\"Foetal Distress\")\n",
        "          else:\n",
        "            print(\"Normal, wait for progress.\")\n",
        "            lists.append(Fhr6)\n",
        "            Fhr7=int(input(\"Enter FHR7: \"))\n",
        "            if Fhr7 < 120 or Fhr7 > 160:\n",
        "              print(\"Foetal Distress\")\n",
        "            else:\n",
        "                print(\"Normal, wait for progress.\")\n",
        "                lists.append(Fhr7)\n",
        "                Fhr8=int(input(\"Enter FHR8: \"))\n",
        "                if Fhr8 < 120 or Fhr8 > 160:\n",
        "                  print(\"Foetal Distress\")\n",
        "                else:\n",
        "                  print(\"Normal, wait for progress.\")\n",
        "                  lists.append(Fhr8)\n",
        "                  fhr_op = 1\n",
        "  # print(fhr_op)\n",
        "\n",
        "\n",
        "def pred(lists,fhr_pred):\n",
        "    k=fhr_model.predict([lists])\n",
        "    k1=[0,1]\n",
        "    k2=[\"Foetal Distress\",'Normal']\n",
        "    if k in k1:\n",
        "        # print(k2[k1.index(k)]) \n",
        "        fhr_pred=k1[k1.index(k)]  \n",
        "    # else:\n",
        "    #     print(\"Enter Valid Inputs\")\n",
        "fhr_pred=0\n",
        "pred(lists,fhr_pred)\n",
        "  \n",
        " \n",
        "\n"
      ],
      "id": "f8d76f13"
    },
    {
      "cell_type": "code",
      "source": [
        "def pred(lists,fhr_pred):\n",
        "    k=fhr_model.predict([lists])\n",
        "    k1=[0,1]\n",
        "    k2=[\"Foetal Distress\",'Normal']\n",
        "    if k in k1:\n",
        "        # print(k2[k1.index(k)]) \n",
        "        fhr_pred=k1[k1.index(k)]  \n",
        "    # else:\n",
        "    #     print(\"Enter Valid Inputs\")\n",
        "fhr_pred=0\n",
        "pred(lists,fhr_pred)"
      ],
      "metadata": {
        "id": "iFDIkq-H-09b"
      },
      "id": "iFDIkq-H-09b",
      "execution_count": null,
      "outputs": []
    },
    {
      "cell_type": "code",
      "execution_count": null,
      "metadata": {
        "colab": {
          "base_uri": "https://localhost:8080/"
        },
        "id": "GIAFHD5MZXo8",
        "outputId": "5c87087c-6c16-4f3a-b97d-ba0dd657ac26"
      },
      "outputs": [
        {
          "output_type": "stream",
          "name": "stdout",
          "text": [
            "Enter Fluid value: c\n",
            "Enter Fluid value: b\n",
            "Enter Fluid value: m\n",
            "Enter Fluid value: i\n",
            "Enter Fluid value: i\n",
            "Enter Fluid value: m\n",
            "Enter Fluid value: b\n",
            "Enter Fluid value: c\n",
            "['c']\n"
          ]
        }
      ],
      "source": [
        "11# c\n",
        "# ccc\n",
        "# 11#fluids\n",
        "def fluid_check(f,fl):\n",
        "  if f in ['c','i','m','b']:\n",
        "    fl.append(f)\n",
        "  else:\n",
        "    f = input('Enter Fluid value: ')\n",
        "    f = f.lower()\n",
        "    fluid_check(f, fl)\n",
        "for i in range(8):\n",
        "  f = input('Enter Fluid value: ')\n",
        "  f = f.lower()\n",
        "  fl = []\n",
        "  fluid_check(f, fl)\n"
      ],
      "id": "GIAFHD5MZXo8"
    },
    {
      "cell_type": "markdown",
      "metadata": {
        "id": "FHDNbLsySQ5k"
      },
      "source": [
        "Contractions Graph"
      ],
      "id": "FHDNbLsySQ5k"
    },
    {
      "cell_type": "code",
      "execution_count": null,
      "metadata": {
        "colab": {
          "base_uri": "https://localhost:8080/"
        },
        "id": "U8qJVngwSV5R",
        "outputId": "23c70c7c-e5b2-4f4d-abd1-f7595b6fcb15"
      },
      "outputs": [
        {
          "name": "stdout",
          "output_type": "stream",
          "text": [
            "Enter c1 ,t1 :20 2\n",
            "Enter c2 ,t2 :25 3\n",
            "Enter c3 ,t3 :30 3\n",
            "Enter c4 ,t4 :35 4\n",
            "Enter c5 ,t5 :40 5\n",
            "Enter c6 ,t6 :30 3\n",
            "Enter c7 ,t7 :35 2\n",
            "Enter c8 ,t8 :45 5\n",
            "enter valid input for 35,2\n",
            "35 3\n"
          ]
        }
      ],
      "source": [
        "c1,t1=map(int,input(\"Enter c1 ,t1 :\").split(\" \"))\n",
        "c2,t2=map(int,input(\"Enter c2 ,t2 :\").split(\" \"))\n",
        "c3,t3=map(int,input(\"Enter c3 ,t3 :\").split(\" \"))\n",
        "c4,t4=map(int,input(\"Enter c4 ,t4 :\").split(\" \"))\n",
        "c5,t5=map(int,input(\"Enter c5 ,t5 :\").split(\" \"))\n",
        "c6,t6=map(int,input(\"Enter c6 ,t6 :\").split(\" \"))\n",
        "c7,t7=map(int,input(\"Enter c7 ,t7 :\").split(\" \"))\n",
        "c8,t8=map(int,input(\"Enter c8 ,t8 :\").split(\" \"))\n",
        "contractions=[]\n",
        "time=[]\n",
        "\n",
        "def cont_check(c,t):\n",
        "  if t<=2 and c<=20:\n",
        "    contractions.append(c)\n",
        "    time.append(t)\n",
        "  elif (t>2 and t<=4) and (c>20 and c<40):\n",
        "    contractions.append(c)\n",
        "    time.append(t)\n",
        "  elif (t==5 or t==4) and (c>=40 and c<=45):\n",
        "    contractions.append(c)\n",
        "    time.append(t)\n",
        "  else:\n",
        "    print(\"enter valid input for \"+str(c)+\",\"+str(t))\n",
        "    c,t=map(int,input().split(\" \"))\n",
        "    cont_check(c,t)\n",
        "\n",
        "cont_check(c1,t1)\n",
        "cont_check(c2,t2)\n",
        "cont_check(c3,t3)\n",
        "cont_check(c4,t4)\n",
        "cont_check(c5,t5)\n",
        "cont_check(c6,t6)\n",
        "cont_check(c7,t7)\n",
        "cont_check(c8,t8)\n"
      ],
      "id": "U8qJVngwSV5R"
    },
    {
      "cell_type": "code",
      "execution_count": null,
      "metadata": {
        "colab": {
          "base_uri": "https://localhost:8080/"
        },
        "id": "cwZkTUZwc2ju",
        "outputId": "f8267f62-37c9-48d2-d8a1-4decb6e82144"
      },
      "outputs": [
        {
          "name": "stdout",
          "output_type": "stream",
          "text": [
            "Enter cervix lenght at 1st hr: 4\n",
            "Enter cervix lenght at 4st hr: 8\n"
          ]
        }
      ],
      "source": [
        "cl1 = int(input(\"Enter cervix lenght at 1st hr: \"))\n",
        "cl2 = int(input(\"Enter cervix lenght at 4st hr: \"))\n",
        "r = (cl2 - cl1) / 4\n",
        "c=cont_model.predict([[c1,c2,c3,c4,c5,c6,c7,c8,cl1,cl2]])[0]\n",
        "\n",
        "if c=='consult' or c=='foetal distress':\n",
        "  cont_pred=0\n",
        "else:\n",
        "  cont_pred=1\n",
        "contractions.append(cl1)\n",
        "contractions.append(cl2)"
      ],
      "id": "cwZkTUZwc2ju"
    },
    {
      "cell_type": "markdown",
      "metadata": {
        "id": "4eyxLJ0Qxw23"
      },
      "source": [
        "Pulse inputs and function graph"
      ],
      "id": "4eyxLJ0Qxw23"
    },
    {
      "cell_type": "code",
      "execution_count": null,
      "metadata": {
        "colab": {
          "base_uri": "https://localhost:8080/",
          "height": 1000
        },
        "id": "sv0BNqQ4vxda",
        "outputId": "55bbfba2-3344-4982-d819-01a7fa6ba951"
      },
      "outputs": [
        {
          "name": "stdout",
          "output_type": "stream",
          "text": [
            "enter bp 1:130\n",
            "enter bp 2:60\n",
            "enter bp 3:140\n",
            "enter bp 4:70\n",
            "enter pulse 1 :70\n",
            "enter pulse 2 :73\n",
            "enter pulse 3 :76\n",
            "enter pulse 4 :79\n",
            "enter pulse 5 :82\n",
            "enter pulse 6 :85\n",
            "enter pulse 7 :88\n",
            "enter pulse 8 :91\n"
          ]
        },
        {
          "output_type": "display_data",
          "data": {
            "text/plain": [
              "<Figure size 1008x595.44 with 1 Axes>"
            ],
            "image/png": "[encoded data removed]"
          },
          "metadata": {}
        },
        {
          "output_type": "display_data",
          "data": {
            "text/plain": [
              "<Figure size 1008x576 with 1 Axes>"
            ],
            "image/png": "[encoded data removed]"
          },
          "metadata": {}
        },
        {
          "output_type": "stream",
          "name": "stdout",
          "text": [
            "the outcome of this graph is : ['normal']\n"
          ]
        }
      ],
      "source": [
        "#pulse & BP input\n",
        "pulses = []\n",
        "bp1 = int(input(\"enter bp 1:\"))\n",
        "bp11 = int(input(\"enter bp 2:\"))\n",
        "bp2 = int(input(\"enter bp 3:\"))\n",
        "bp22 =int(input(\"enter bp 4:\"))\n",
        "\n",
        "for i in range(1,9):\n",
        "  r=int(input(\"enter pulse {} :\".format(i)))\n",
        "  if r>=60 and r<=120:\n",
        "    pulses.append(r)\n",
        "  else:\n",
        "    print(\"consult\")\n",
        "\n",
        "\n",
        "\n",
        "#foetal heart rate graph\n",
        "fhr_graph(Fhr1,Fhr2,Fhr3,Fhr4,Fhr5,Fhr6,Fhr7,Fhr8)\n",
        "\n",
        "\n",
        "#cervix lenght graph\n",
        "\n",
        "if cl1 >= 4:\n",
        "  cl_graph(r)\n",
        "else:\n",
        "  print(\"Not a suitable time to draw partograph, Please Wait till Cervix Length is 4cm.\")\n",
        "\n",
        "#bp-pulse graph\n",
        "bp_pred_list=pulses+[bp1]+[bp11]+[bp2]+[bp22]\n",
        "if b=='consult':\n",
        "  bp_pred=0\n",
        "else:\n",
        "  bp_pred=1\n",
        "\n",
        "#Pulse graph\n",
        "\n",
        "if len(pulses)<8:\n",
        "  pass\n",
        "else:\n",
        "  bp_pulse_graph(pulses,bp1,bp11,bp2,bp22)\n",
        "\n",
        "\n",
        "\n",
        "\n",
        "#contractions graph\n",
        "\n",
        "left1 = [1, 2, 3, 4, 5, 6, 7, 8]\n",
        "\n",
        "cont_graph(contractions,left1,time)\n"
      ],
      "id": "sv0BNqQ4vxda"
    },
    {
      "cell_type": "code",
      "execution_count": null,
      "metadata": {
        "colab": {
          "base_uri": "https://localhost:8080/"
        },
        "id": "jymqoUY_er-S",
        "outputId": "86983522-60f8-4d91-c7db-888141b20875"
      },
      "outputs": [
        {
          "name": "stdout",
          "output_type": "stream",
          "text": [
            "enter temperature: 36.8\n",
            "enter temperature: 37.3\n"
          ]
        }
      ],
      "source": [
        "temp1=float(input(\"enter temperature: \"))\n",
        "temp2=float(input(\"enter temperature: \"))\n"
      ],
      "id": "jymqoUY_er-S"
    },
    {
      "cell_type": "code",
      "execution_count": null,
      "metadata": {
        "id": "7ogeKE0cfBgl"
      },
      "outputs": [],
      "source": [
        "def temp_check(temp,temp_pred):\n",
        "  if temp<36.7 or temp >37.6:\n",
        "    temp_pred=0\n",
        "  else:\n",
        "    temp_pred=1\n",
        "\n",
        "temp_pred=0\n",
        "temp_check(temp1,temp_pred)\n",
        "temp_check(temp2,temp_pred)\n"
      ],
      "id": "7ogeKE0cfBgl"
    },
    {
      "cell_type": "code",
      "execution_count": null,
      "metadata": {
        "id": "dqLYPO9BgSkI"
      },
      "outputs": [],
      "source": [
        "final_list=[fhr_pred]+[flu_pred][0]+[cer_pred][0]+[cont_pred]+[bp_pred]+[bp_pred]+[temp_pred]"
      ],
      "id": "dqLYPO9BgSkI"
    },
    {
      "cell_type": "code",
      "execution_count": null,
      "metadata": {
        "colab": {
          "base_uri": "https://localhost:8080/"
        },
        "id": "_6ga1G3XhlmD",
        "outputId": "0b8f55c2-29ec-469a-e652-457ca16132f4"
      },
      "outputs": [
        {
          "output_type": "execute_result",
          "data": {
            "text/plain": [
              "[0, 1, 1, 1, 0, 0, 0]"
            ]
          },
          "metadata": {},
          "execution_count": 61
        }
      ],
      "source": [
        "final_list"
      ],
      "id": "_6ga1G3XhlmD"
    },
    {
      "cell_type": "code",
      "execution_count": null,
      "metadata": {
        "colab": {
          "base_uri": "https://localhost:8080/",
          "height": 36
        },
        "id": "8Pxp3d5yXErP",
        "outputId": "f244c4ab-da77-4d85-90da-7825d00a3fc8"
      },
      "outputs": [
        {
          "output_type": "execute_result",
          "data": {
            "text/plain": [
              "'FD'"
            ],
            "application/vnd.google.colaboratory.intrinsic+json": {
              "type": "string"
            }
          },
          "metadata": {},
          "execution_count": 65
        }
      ],
      "source": [
        "flu_pred=[0 if x=='b' or x=='m'  else 1 for x in fl]\n",
        "cer_pred=[0 if r<4 else 1]\n",
        "\n",
        "final_model.predict([final_list])[0]"
      ],
      "id": "8Pxp3d5yXErP"
    },
    {
      "cell_type": "code",
      "source": [],
      "metadata": {
        "id": "tdTPNWrJB7Se"
      },
      "id": "tdTPNWrJB7Se",
      "execution_count": null,
      "outputs": []
    }
  ],
  "metadata": {
    "colab": {
      "provenance": []
    },
    "kernelspec": {
      "display_name": "Python 3 (ipykernel)",
      "language": "python",
      "name": "python3"
    },
    "language_info": {
      "codemirror_mode": {
        "name": "ipython",
        "version": 3
      },
      "file_extension": ".py",
      "mimetype": "text/x-python",
      "name": "python",
      "nbconvert_exporter": "python",
      "pygments_lexer": "ipython3",
      "version": "3.9.12"
    }
  },
  "nbformat": 4,
  "nbformat_minor": 5
}